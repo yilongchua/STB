{
 "cells": [
  {
   "cell_type": "markdown",
   "id": "d339bbd7-c0d2-4f86-be34-a2c1a5239725",
   "metadata": {},
   "source": [
    "# Objective : Predict 'pov6' (multiclass)\n",
    "\n",
    "1. Imbalance dataset\n",
    "2. Multiclass - 6 classes  \n",
    "    * 1: 77.2 %\n",
    "    * 2: 17.6 %\n",
    "    * 3: 1.8 %\n",
    "    * 4: 1.0 %\n",
    "    * 5: 0.7 %\n",
    "    * 6: 1.5 %\n",
    "\n",
    "Data Cleaning\n",
    "1. Outliers \n",
    "    * z-score (didnt apply)\n",
    "\n",
    "2. Null Values\n",
    "    * Sweeping Thresholde set at 60% of entire column having null values will be rejected\n",
    "    * Replace null values with median to reduce skewness of data \n",
    "    \n",
    "3. Remove Single Valued columns\n",
    "\n",
    "4. Check Str columns to keep or fill na with a new column\n",
    "\n",
    "Feature Engineering \n",
    "1. Get dummies for str column\n",
    "2. Considered feature scaling (Standardization )\n",
    "\n",
    "Feature Selection - (Voting)\n",
    "1. df corr\n",
    "2. lassoCV\n",
    "3. SelectKbest-f_classify\n",
    "4. Feature Importance - Random Forest\n",
    "5. RFECV - Decision Tree\n",
    "\n",
    "Data preprocessing\n",
    "1. Resample Dataset \n",
    "    * ADASYN\n",
    "    \n",
    "Models\n",
    "1. LogReg (use as Basline)\n",
    "2. Random Forest (main)\n",
    "\n",
    "Metrics\n",
    "1. Weighted F1-Score: F1 score weighted by the number of true instance of each class\n",
    "\n",
    "    "
   ]
  },
  {
   "cell_type": "code",
   "execution_count": 1,
   "id": "a3eb3a96-28b2-401f-948a-a59c6cc1b9b9",
   "metadata": {},
   "outputs": [],
   "source": [
    "import pandas as pd\n",
    "import numpy as np\n",
    "import matplotlib.pyplot as plt\n",
    "import pickle, json\n",
    "from scipy import stats\n",
    "import seaborn as sns\n",
    "from scipy.stats import shapiro\n",
    "import scipy.stats as stats"
   ]
  },
  {
   "cell_type": "code",
   "execution_count": 2,
   "id": "7ae77d43-3a1a-45b7-9126-299807fd2e21",
   "metadata": {},
   "outputs": [],
   "source": [
    "target = 'pov6'\n",
    "drop_ls = []"
   ]
  },
  {
   "cell_type": "markdown",
   "id": "5d14e4b7-398b-40f7-b586-470fffa1e033",
   "metadata": {
    "tags": []
   },
   "source": [
    "## Data Cleaning"
   ]
  },
  {
   "cell_type": "code",
   "execution_count": 3,
   "id": "55e65b10-d415-49a6-ba77-ea414b9385d9",
   "metadata": {},
   "outputs": [
    {
     "data": {
      "text/html": [
       "<div>\n",
       "<style scoped>\n",
       "    .dataframe tbody tr th:only-of-type {\n",
       "        vertical-align: middle;\n",
       "    }\n",
       "\n",
       "    .dataframe tbody tr th {\n",
       "        vertical-align: top;\n",
       "    }\n",
       "\n",
       "    .dataframe thead th {\n",
       "        text-align: right;\n",
       "    }\n",
       "</style>\n",
       "<table border=\"1\" class=\"dataframe\">\n",
       "  <thead>\n",
       "    <tr style=\"text-align: right;\">\n",
       "      <th></th>\n",
       "      <th>month</th>\n",
       "      <th>var8</th>\n",
       "      <th>var6</th>\n",
       "      <th>a.1</th>\n",
       "      <th>a.2</th>\n",
       "      <th>a.3</th>\n",
       "      <th>a.4</th>\n",
       "      <th>var5</th>\n",
       "      <th>b.5</th>\n",
       "      <th>b.6</th>\n",
       "      <th>...</th>\n",
       "      <th>c.276</th>\n",
       "      <th>c.277</th>\n",
       "      <th>c.278</th>\n",
       "      <th>c.279</th>\n",
       "      <th>c.280</th>\n",
       "      <th>c.281</th>\n",
       "      <th>c.282</th>\n",
       "      <th>c.283</th>\n",
       "      <th>f.284</th>\n",
       "      <th>t.158</th>\n",
       "    </tr>\n",
       "  </thead>\n",
       "  <tbody>\n",
       "    <tr>\n",
       "      <th>0</th>\n",
       "      <td>1</td>\n",
       "      <td>2.0</td>\n",
       "      <td>NaN</td>\n",
       "      <td>1</td>\n",
       "      <td>5</td>\n",
       "      <td>1</td>\n",
       "      <td>57</td>\n",
       "      <td>34</td>\n",
       "      <td>1</td>\n",
       "      <td>NaN</td>\n",
       "      <td>...</td>\n",
       "      <td>1</td>\n",
       "      <td>0</td>\n",
       "      <td>0</td>\n",
       "      <td>0</td>\n",
       "      <td>1</td>\n",
       "      <td>0</td>\n",
       "      <td>0</td>\n",
       "      <td>0</td>\n",
       "      <td>5.0</td>\n",
       "      <td>NaN</td>\n",
       "    </tr>\n",
       "    <tr>\n",
       "      <th>1</th>\n",
       "      <td>1</td>\n",
       "      <td>2.0</td>\n",
       "      <td>NaN</td>\n",
       "      <td>1</td>\n",
       "      <td>4</td>\n",
       "      <td>1</td>\n",
       "      <td>57</td>\n",
       "      <td>34</td>\n",
       "      <td>2</td>\n",
       "      <td>3.0</td>\n",
       "      <td>...</td>\n",
       "      <td>0</td>\n",
       "      <td>0</td>\n",
       "      <td>0</td>\n",
       "      <td>0</td>\n",
       "      <td>0</td>\n",
       "      <td>0</td>\n",
       "      <td>1</td>\n",
       "      <td>0</td>\n",
       "      <td>NaN</td>\n",
       "      <td>NaN</td>\n",
       "    </tr>\n",
       "    <tr>\n",
       "      <th>2</th>\n",
       "      <td>1</td>\n",
       "      <td>2.0</td>\n",
       "      <td>NaN</td>\n",
       "      <td>1</td>\n",
       "      <td>5</td>\n",
       "      <td>1</td>\n",
       "      <td>57</td>\n",
       "      <td>42</td>\n",
       "      <td>2</td>\n",
       "      <td>1.0</td>\n",
       "      <td>...</td>\n",
       "      <td>0</td>\n",
       "      <td>0</td>\n",
       "      <td>0</td>\n",
       "      <td>0</td>\n",
       "      <td>0</td>\n",
       "      <td>0</td>\n",
       "      <td>0</td>\n",
       "      <td>0</td>\n",
       "      <td>3.0</td>\n",
       "      <td>NaN</td>\n",
       "    </tr>\n",
       "    <tr>\n",
       "      <th>3</th>\n",
       "      <td>1</td>\n",
       "      <td>2.0</td>\n",
       "      <td>NaN</td>\n",
       "      <td>1</td>\n",
       "      <td>6</td>\n",
       "      <td>1</td>\n",
       "      <td>57</td>\n",
       "      <td>34</td>\n",
       "      <td>2</td>\n",
       "      <td>4.0</td>\n",
       "      <td>...</td>\n",
       "      <td>0</td>\n",
       "      <td>0</td>\n",
       "      <td>0</td>\n",
       "      <td>0</td>\n",
       "      <td>1</td>\n",
       "      <td>0</td>\n",
       "      <td>1</td>\n",
       "      <td>0</td>\n",
       "      <td>5.0</td>\n",
       "      <td>NaN</td>\n",
       "    </tr>\n",
       "    <tr>\n",
       "      <th>4</th>\n",
       "      <td>1</td>\n",
       "      <td>2.0</td>\n",
       "      <td>NaN</td>\n",
       "      <td>1</td>\n",
       "      <td>8</td>\n",
       "      <td>1</td>\n",
       "      <td>22</td>\n",
       "      <td>1</td>\n",
       "      <td>1</td>\n",
       "      <td>NaN</td>\n",
       "      <td>...</td>\n",
       "      <td>0</td>\n",
       "      <td>0</td>\n",
       "      <td>0</td>\n",
       "      <td>0</td>\n",
       "      <td>0</td>\n",
       "      <td>0</td>\n",
       "      <td>0</td>\n",
       "      <td>0</td>\n",
       "      <td>5.0</td>\n",
       "      <td>NaN</td>\n",
       "    </tr>\n",
       "  </tbody>\n",
       "</table>\n",
       "<p>5 rows × 300 columns</p>\n",
       "</div>"
      ],
      "text/plain": [
       "   month  var8  var6  a.1  a.2  a.3  a.4  var5  b.5  b.6  ...  c.276  c.277  \\\n",
       "0      1   2.0   NaN    1    5    1   57    34    1  NaN  ...      1      0   \n",
       "1      1   2.0   NaN    1    4    1   57    34    2  3.0  ...      0      0   \n",
       "2      1   2.0   NaN    1    5    1   57    42    2  1.0  ...      0      0   \n",
       "3      1   2.0   NaN    1    6    1   57    34    2  4.0  ...      0      0   \n",
       "4      1   2.0   NaN    1    8    1   22     1    1  NaN  ...      0      0   \n",
       "\n",
       "   c.278  c.279  c.280  c.281  c.282  c.283  f.284  t.158  \n",
       "0      0      0      1      0      0      0    5.0    NaN  \n",
       "1      0      0      0      0      1      0    NaN    NaN  \n",
       "2      0      0      0      0      0      0    3.0    NaN  \n",
       "3      0      0      1      0      1      0    5.0    NaN  \n",
       "4      0      0      0      0      0      0    5.0    NaN  \n",
       "\n",
       "[5 rows x 300 columns]"
      ]
     },
     "execution_count": 3,
     "metadata": {},
     "output_type": "execute_result"
    }
   ],
   "source": [
    "df = pd.read_csv('./data/spenddata.csv', index_col=0)\n",
    "df.reset_index(drop=True, inplace=True)\n",
    "df.head()"
   ]
  },
  {
   "cell_type": "markdown",
   "id": "daabd269-c25d-4eb1-ae62-cbbc2e840d0e",
   "metadata": {},
   "source": [
    "## Sweeping null threshold set at 60%"
   ]
  },
  {
   "cell_type": "code",
   "execution_count": 4,
   "id": "8cac2554-c766-43f4-9381-533f369193d9",
   "metadata": {},
   "outputs": [],
   "source": [
    "null_threshold = int(df.shape[0] * 0.6)\n",
    "drop_ls.extend(df.isnull().sum()[df.isnull().sum() > null_threshold].index)"
   ]
  },
  {
   "cell_type": "code",
   "execution_count": 5,
   "id": "2486e8b2-9f42-45e4-8b0b-bbe5834bca97",
   "metadata": {},
   "outputs": [
    {
     "data": {
      "text/plain": [
       "('Number of columns drop :', 44)"
      ]
     },
     "execution_count": 5,
     "metadata": {},
     "output_type": "execute_result"
    }
   ],
   "source": [
    "'Number of columns drop :',len(drop_ls)"
   ]
  },
  {
   "cell_type": "markdown",
   "id": "496c3786-65da-46c5-b6d2-7c2710373863",
   "metadata": {},
   "source": [
    "## Check test data remove columns where null exceeds threshold"
   ]
  },
  {
   "cell_type": "code",
   "execution_count": 6,
   "id": "f8ab718e-50fa-4019-a0ef-1bed5961c2e2",
   "metadata": {},
   "outputs": [
    {
     "data": {
      "text/html": [
       "<div>\n",
       "<style scoped>\n",
       "    .dataframe tbody tr th:only-of-type {\n",
       "        vertical-align: middle;\n",
       "    }\n",
       "\n",
       "    .dataframe tbody tr th {\n",
       "        vertical-align: top;\n",
       "    }\n",
       "\n",
       "    .dataframe thead th {\n",
       "        text-align: right;\n",
       "    }\n",
       "</style>\n",
       "<table border=\"1\" class=\"dataframe\">\n",
       "  <thead>\n",
       "    <tr style=\"text-align: right;\">\n",
       "      <th></th>\n",
       "      <th>month</th>\n",
       "      <th>var8</th>\n",
       "      <th>var6</th>\n",
       "      <th>a.1</th>\n",
       "      <th>a.2</th>\n",
       "      <th>a.3</th>\n",
       "      <th>a.4</th>\n",
       "      <th>var5</th>\n",
       "      <th>b.5</th>\n",
       "      <th>b.6</th>\n",
       "      <th>...</th>\n",
       "      <th>c.275</th>\n",
       "      <th>c.276</th>\n",
       "      <th>c.277</th>\n",
       "      <th>c.278</th>\n",
       "      <th>c.279</th>\n",
       "      <th>c.280</th>\n",
       "      <th>c.281</th>\n",
       "      <th>c.282</th>\n",
       "      <th>c.283</th>\n",
       "      <th>f.284</th>\n",
       "    </tr>\n",
       "  </thead>\n",
       "  <tbody>\n",
       "    <tr>\n",
       "      <th>9</th>\n",
       "      <td>1</td>\n",
       "      <td>1.0</td>\n",
       "      <td>NaN</td>\n",
       "      <td>1</td>\n",
       "      <td>11</td>\n",
       "      <td>1</td>\n",
       "      <td>47</td>\n",
       "      <td>8</td>\n",
       "      <td>2</td>\n",
       "      <td>1.0</td>\n",
       "      <td>...</td>\n",
       "      <td>0</td>\n",
       "      <td>0</td>\n",
       "      <td>0</td>\n",
       "      <td>0</td>\n",
       "      <td>0</td>\n",
       "      <td>0</td>\n",
       "      <td>0</td>\n",
       "      <td>1</td>\n",
       "      <td>0</td>\n",
       "      <td>3.0</td>\n",
       "    </tr>\n",
       "    <tr>\n",
       "      <th>15</th>\n",
       "      <td>1</td>\n",
       "      <td>2.0</td>\n",
       "      <td>NaN</td>\n",
       "      <td>1</td>\n",
       "      <td>11</td>\n",
       "      <td>1</td>\n",
       "      <td>65</td>\n",
       "      <td>27</td>\n",
       "      <td>1</td>\n",
       "      <td>NaN</td>\n",
       "      <td>...</td>\n",
       "      <td>0</td>\n",
       "      <td>1</td>\n",
       "      <td>0</td>\n",
       "      <td>0</td>\n",
       "      <td>0</td>\n",
       "      <td>0</td>\n",
       "      <td>0</td>\n",
       "      <td>0</td>\n",
       "      <td>0</td>\n",
       "      <td>3.0</td>\n",
       "    </tr>\n",
       "    <tr>\n",
       "      <th>16</th>\n",
       "      <td>1</td>\n",
       "      <td>2.0</td>\n",
       "      <td>NaN</td>\n",
       "      <td>1</td>\n",
       "      <td>6</td>\n",
       "      <td>1</td>\n",
       "      <td>65</td>\n",
       "      <td>27</td>\n",
       "      <td>2</td>\n",
       "      <td>1.0</td>\n",
       "      <td>...</td>\n",
       "      <td>0</td>\n",
       "      <td>0</td>\n",
       "      <td>0</td>\n",
       "      <td>0</td>\n",
       "      <td>0</td>\n",
       "      <td>0</td>\n",
       "      <td>0</td>\n",
       "      <td>1</td>\n",
       "      <td>0</td>\n",
       "      <td>3.0</td>\n",
       "    </tr>\n",
       "    <tr>\n",
       "      <th>24</th>\n",
       "      <td>1</td>\n",
       "      <td>1.0</td>\n",
       "      <td>NaN</td>\n",
       "      <td>1</td>\n",
       "      <td>3</td>\n",
       "      <td>1</td>\n",
       "      <td>3</td>\n",
       "      <td>2</td>\n",
       "      <td>1</td>\n",
       "      <td>NaN</td>\n",
       "      <td>...</td>\n",
       "      <td>0</td>\n",
       "      <td>0</td>\n",
       "      <td>0</td>\n",
       "      <td>0</td>\n",
       "      <td>0</td>\n",
       "      <td>0</td>\n",
       "      <td>0</td>\n",
       "      <td>0</td>\n",
       "      <td>0</td>\n",
       "      <td>NaN</td>\n",
       "    </tr>\n",
       "    <tr>\n",
       "      <th>32</th>\n",
       "      <td>1</td>\n",
       "      <td>1.0</td>\n",
       "      <td>NaN</td>\n",
       "      <td>1</td>\n",
       "      <td>5</td>\n",
       "      <td>1</td>\n",
       "      <td>83</td>\n",
       "      <td>3</td>\n",
       "      <td>1</td>\n",
       "      <td>NaN</td>\n",
       "      <td>...</td>\n",
       "      <td>0</td>\n",
       "      <td>1</td>\n",
       "      <td>0</td>\n",
       "      <td>0</td>\n",
       "      <td>0</td>\n",
       "      <td>1</td>\n",
       "      <td>0</td>\n",
       "      <td>0</td>\n",
       "      <td>0</td>\n",
       "      <td>NaN</td>\n",
       "    </tr>\n",
       "  </tbody>\n",
       "</table>\n",
       "<p>5 rows × 299 columns</p>\n",
       "</div>"
      ],
      "text/plain": [
       "    month  var8  var6  a.1  a.2  a.3  a.4  var5  b.5  b.6  ...  c.275  c.276  \\\n",
       "9       1   1.0   NaN    1   11    1   47     8    2  1.0  ...      0      0   \n",
       "15      1   2.0   NaN    1   11    1   65    27    1  NaN  ...      0      1   \n",
       "16      1   2.0   NaN    1    6    1   65    27    2  1.0  ...      0      0   \n",
       "24      1   1.0   NaN    1    3    1    3     2    1  NaN  ...      0      0   \n",
       "32      1   1.0   NaN    1    5    1   83     3    1  NaN  ...      0      1   \n",
       "\n",
       "    c.277  c.278  c.279  c.280  c.281  c.282  c.283  f.284  \n",
       "9       0      0      0      0      0      1      0    3.0  \n",
       "15      0      0      0      0      0      0      0    3.0  \n",
       "16      0      0      0      0      0      1      0    3.0  \n",
       "24      0      0      0      0      0      0      0    NaN  \n",
       "32      0      0      0      1      0      0      0    NaN  \n",
       "\n",
       "[5 rows x 299 columns]"
      ]
     },
     "execution_count": 6,
     "metadata": {},
     "output_type": "execute_result"
    }
   ],
   "source": [
    "df_test = pd.read_csv('./data/testdata.csv', index_col=0)\n",
    "df_test.head()"
   ]
  },
  {
   "cell_type": "code",
   "execution_count": 7,
   "id": "f7d8e34a-a2ed-4095-85c0-ee71303b5b64",
   "metadata": {},
   "outputs": [],
   "source": [
    "null_threshold = int(df_test.shape[0] * 0.6)\n",
    "drop_ls.extend(df_test.isnull().sum()[df_test.isnull().sum() > null_threshold].index)"
   ]
  },
  {
   "cell_type": "code",
   "execution_count": 8,
   "id": "82f238ef-f3a4-4b22-8f06-c6fb9aa2c4e6",
   "metadata": {},
   "outputs": [],
   "source": [
    "drop_ls.remove(target)"
   ]
  },
  {
   "cell_type": "markdown",
   "id": "161d301d-346e-42c6-a18a-5ea93a9dbd64",
   "metadata": {
    "tags": []
   },
   "source": [
    "## Remove columns that only have a single value"
   ]
  },
  {
   "cell_type": "code",
   "execution_count": 9,
   "id": "b45f57d3-9199-4fa7-8a8e-f85c5ab9e8f2",
   "metadata": {},
   "outputs": [],
   "source": [
    "drop_ls.extend([col for col in df.columns if df[col].nunique() ==1])"
   ]
  },
  {
   "cell_type": "code",
   "execution_count": 10,
   "id": "e71c9189-2bd6-41d8-b8ed-a81556701de8",
   "metadata": {},
   "outputs": [],
   "source": [
    "df.drop(columns=list(set(drop_ls)), inplace=True)"
   ]
  },
  {
   "cell_type": "markdown",
   "id": "67667fe3-b010-44eb-a63d-431208ca4079",
   "metadata": {},
   "source": [
    "## Check column name where name is alpha \n",
    "1. Found Month"
   ]
  },
  {
   "cell_type": "code",
   "execution_count": 11,
   "id": "b384f682-e31e-4a3d-967b-a6dcb67e3a1d",
   "metadata": {},
   "outputs": [
    {
     "data": {
      "text/plain": [
       "['month']"
      ]
     },
     "execution_count": 11,
     "metadata": {},
     "output_type": "execute_result"
    }
   ],
   "source": [
    "[col for col in df.columns if col.isalpha()]"
   ]
  },
  {
   "cell_type": "markdown",
   "id": "bc945585-975c-4f21-9677-f26d1e2acd52",
   "metadata": {},
   "source": [
    "Month can be dummify"
   ]
  },
  {
   "cell_type": "code",
   "execution_count": 12,
   "id": "5d925086-80db-4817-a1d1-a9f867fb5b17",
   "metadata": {},
   "outputs": [
    {
     "data": {
      "text/plain": [
       "<AxesSubplot:title={'center':'month'}, xlabel='pov6'>"
      ]
     },
     "execution_count": 12,
     "metadata": {},
     "output_type": "execute_result"
    },
    {
     "data": {
      "image/png": "[encoded data removed]",
      "text/plain": [
       "<Figure size 640x480 with 1 Axes>"
      ]
     },
     "metadata": {},
     "output_type": "display_data"
    }
   ],
   "source": [
    "df.boxplot(by =target, column =['month'], grid = False) "
   ]
  },
  {
   "cell_type": "markdown",
   "id": "c3f26542-212f-41bc-8ba3-d22c105a1580",
   "metadata": {},
   "source": [
    "## Check by dtype"
   ]
  },
  {
   "cell_type": "code",
   "execution_count": 13,
   "id": "b7e8ec91-84c0-4591-96f6-ee79b9b17810",
   "metadata": {},
   "outputs": [
    {
     "data": {
      "text/plain": [
       "array([dtype('int64'), dtype('float64'), dtype('O')], dtype=object)"
      ]
     },
     "execution_count": 13,
     "metadata": {},
     "output_type": "execute_result"
    }
   ],
   "source": [
    "df.dtypes.unique()"
   ]
  },
  {
   "cell_type": "markdown",
   "id": "9ec9816b-c9c1-4a98-b5a2-cb71f9041dc5",
   "metadata": {},
   "source": [
    "## Str Column"
   ]
  },
  {
   "cell_type": "code",
   "execution_count": 14,
   "id": "141505e9-5af4-4d88-bf7d-4e8c182f05d1",
   "metadata": {},
   "outputs": [
    {
     "data": {
      "text/html": [
       "<div>\n",
       "<style scoped>\n",
       "    .dataframe tbody tr th:only-of-type {\n",
       "        vertical-align: middle;\n",
       "    }\n",
       "\n",
       "    .dataframe tbody tr th {\n",
       "        vertical-align: top;\n",
       "    }\n",
       "\n",
       "    .dataframe thead th {\n",
       "        text-align: right;\n",
       "    }\n",
       "</style>\n",
       "<table border=\"1\" class=\"dataframe\">\n",
       "  <thead>\n",
       "    <tr style=\"text-align: right;\">\n",
       "      <th></th>\n",
       "      <th>var9</th>\n",
       "      <th>respondent.id</th>\n",
       "    </tr>\n",
       "  </thead>\n",
       "  <tbody>\n",
       "    <tr>\n",
       "      <th>0</th>\n",
       "      <td>Mono</td>\n",
       "      <td>2016_1</td>\n",
       "    </tr>\n",
       "    <tr>\n",
       "      <th>1</th>\n",
       "      <td>Mono</td>\n",
       "      <td>2016_2</td>\n",
       "    </tr>\n",
       "    <tr>\n",
       "      <th>2</th>\n",
       "      <td>Multi</td>\n",
       "      <td>2016_3</td>\n",
       "    </tr>\n",
       "    <tr>\n",
       "      <th>3</th>\n",
       "      <td>Mono</td>\n",
       "      <td>2016_4</td>\n",
       "    </tr>\n",
       "    <tr>\n",
       "      <th>4</th>\n",
       "      <td>Multi</td>\n",
       "      <td>2016_5</td>\n",
       "    </tr>\n",
       "  </tbody>\n",
       "</table>\n",
       "</div>"
      ],
      "text/plain": [
       "    var9 respondent.id\n",
       "0   Mono        2016_1\n",
       "1   Mono        2016_2\n",
       "2  Multi        2016_3\n",
       "3   Mono        2016_4\n",
       "4  Multi        2016_5"
      ]
     },
     "execution_count": 14,
     "metadata": {},
     "output_type": "execute_result"
    }
   ],
   "source": [
    "df.select_dtypes(include='object').head()"
   ]
  },
  {
   "cell_type": "code",
   "execution_count": 15,
   "id": "5ab395f5-78d6-4e4a-b12f-5388f13d614e",
   "metadata": {},
   "outputs": [
    {
     "data": {
      "text/plain": [
       "True"
      ]
     },
     "execution_count": 15,
     "metadata": {},
     "output_type": "execute_result"
    }
   ],
   "source": [
    "#Check if its a unique id column\n",
    "df['respondent.id'].nunique() == df.shape[0]"
   ]
  },
  {
   "cell_type": "markdown",
   "id": "c6cdf1a6-7815-42b0-8044-6f554144f1ec",
   "metadata": {},
   "source": [
    "Drop respondent.id column"
   ]
  },
  {
   "cell_type": "code",
   "execution_count": 16,
   "id": "b74fdbda-ad43-452a-b54b-7c54206ad4b6",
   "metadata": {},
   "outputs": [],
   "source": [
    "df.drop(columns=['respondent.id'], inplace=True)"
   ]
  },
  {
   "cell_type": "markdown",
   "id": "9ef5fa5a-d7fa-4e45-99ae-52fd574260d2",
   "metadata": {},
   "source": [
    "Check var9 distribution against pov6"
   ]
  },
  {
   "cell_type": "code",
   "execution_count": 17,
   "id": "42f24b98-d18c-4abd-ab83-54ee5e9384c0",
   "metadata": {},
   "outputs": [
    {
     "data": {
      "text/html": [
       "<div>\n",
       "<style scoped>\n",
       "    .dataframe tbody tr th:only-of-type {\n",
       "        vertical-align: middle;\n",
       "    }\n",
       "\n",
       "    .dataframe tbody tr th {\n",
       "        vertical-align: top;\n",
       "    }\n",
       "\n",
       "    .dataframe thead th {\n",
       "        text-align: right;\n",
       "    }\n",
       "</style>\n",
       "<table border=\"1\" class=\"dataframe\">\n",
       "  <thead>\n",
       "    <tr style=\"text-align: right;\">\n",
       "      <th>var9</th>\n",
       "      <th>Mono</th>\n",
       "      <th>Multi</th>\n",
       "      <th>nan</th>\n",
       "    </tr>\n",
       "    <tr>\n",
       "      <th>pov6</th>\n",
       "      <th></th>\n",
       "      <th></th>\n",
       "      <th></th>\n",
       "    </tr>\n",
       "  </thead>\n",
       "  <tbody>\n",
       "    <tr>\n",
       "      <th>1</th>\n",
       "      <td>7679</td>\n",
       "      <td>6313</td>\n",
       "      <td>205</td>\n",
       "    </tr>\n",
       "    <tr>\n",
       "      <th>2</th>\n",
       "      <td>2085</td>\n",
       "      <td>1135</td>\n",
       "      <td>26</td>\n",
       "    </tr>\n",
       "    <tr>\n",
       "      <th>3</th>\n",
       "      <td>321</td>\n",
       "      <td>10</td>\n",
       "      <td>4</td>\n",
       "    </tr>\n",
       "    <tr>\n",
       "      <th>4</th>\n",
       "      <td>160</td>\n",
       "      <td>21</td>\n",
       "      <td>2</td>\n",
       "    </tr>\n",
       "    <tr>\n",
       "      <th>5</th>\n",
       "      <td>115</td>\n",
       "      <td>18</td>\n",
       "      <td>0</td>\n",
       "    </tr>\n",
       "    <tr>\n",
       "      <th>6</th>\n",
       "      <td>250</td>\n",
       "      <td>35</td>\n",
       "      <td>0</td>\n",
       "    </tr>\n",
       "  </tbody>\n",
       "</table>\n",
       "</div>"
      ],
      "text/plain": [
       "var9  Mono  Multi  nan\n",
       "pov6                  \n",
       "1     7679   6313  205\n",
       "2     2085   1135   26\n",
       "3      321     10    4\n",
       "4      160     21    2\n",
       "5      115     18    0\n",
       "6      250     35    0"
      ]
     },
     "execution_count": 17,
     "metadata": {},
     "output_type": "execute_result"
    }
   ],
   "source": [
    "df_var9 = df[['var9', 'pov6']].copy()\n",
    "df_var9['var9'].fillna('nan', inplace=True)\n",
    "pivot_df = df_var9[['var9', 'pov6']].pivot_table(index=target, columns='var9', aggfunc=len, fill_value=0)\n",
    "pivot_df"
   ]
  },
  {
   "cell_type": "code",
   "execution_count": 18,
   "id": "878986fd-7f4e-4110-b9b3-5a3db32747e4",
   "metadata": {},
   "outputs": [],
   "source": [
    "df['var9'].fillna('nan', inplace=True)"
   ]
  },
  {
   "cell_type": "markdown",
   "id": "c28e7cc0-79aa-4354-a42c-4b970403f210",
   "metadata": {},
   "source": [
    "Keep var 9 as the distribution for group 5,6 is quite interesting."
   ]
  },
  {
   "cell_type": "markdown",
   "id": "04531993-4000-493e-ba93-aa0dc8a37db2",
   "metadata": {},
   "source": [
    "## Interger columns"
   ]
  },
  {
   "cell_type": "code",
   "execution_count": 19,
   "id": "45452c33-b93c-4b08-8223-348a8e8938a6",
   "metadata": {},
   "outputs": [
    {
     "data": {
      "text/plain": [
       "0"
      ]
     },
     "execution_count": 19,
     "metadata": {},
     "output_type": "execute_result"
    }
   ],
   "source": [
    "df_int = df.select_dtypes(include=['int64'])\n",
    "df_int.isnull().sum().sum()"
   ]
  },
  {
   "cell_type": "markdown",
   "id": "6f7695b7-088b-45f0-9946-0d6c4dc3b31d",
   "metadata": {},
   "source": [
    "## Float Columns"
   ]
  },
  {
   "cell_type": "code",
   "execution_count": 20,
   "id": "d75b83d0-8cd2-4393-b2ed-e11c25d2ee08",
   "metadata": {},
   "outputs": [
    {
     "data": {
      "text/plain": [
       "63498"
      ]
     },
     "execution_count": 20,
     "metadata": {},
     "output_type": "execute_result"
    }
   ],
   "source": [
    "df_float = df.select_dtypes(include=['float64'])\n",
    "df_float.isnull().sum().sum()"
   ]
  },
  {
   "cell_type": "code",
   "execution_count": 21,
   "id": "538fc5e8-24c5-400d-98ba-057cb940d359",
   "metadata": {},
   "outputs": [],
   "source": [
    "mapping_dict = {}\n",
    "null_cols= df_float.isnull().sum()[(df_float.isnull().sum() > 0) ].index.tolist()\n",
    "\n",
    "# Fillna for columns with mean/medium \n",
    "\n",
    "for col in null_cols:\n",
    "    mapping_dict[col] = df[col].median()\n",
    "    df[col] = df[col].fillna(df[col].median())\n",
    "\n",
    "with open('./data/mapping_dict.json', 'w') as f:\n",
    "    json.dump(mapping_dict, f)"
   ]
  },
  {
   "cell_type": "code",
   "execution_count": 22,
   "id": "6878091d-8dd6-421b-bf6f-39315a025f84",
   "metadata": {},
   "outputs": [
    {
     "data": {
      "text/plain": [
       "0"
      ]
     },
     "execution_count": 22,
     "metadata": {},
     "output_type": "execute_result"
    }
   ],
   "source": [
    "df.isnull().sum().sum()"
   ]
  },
  {
   "cell_type": "markdown",
   "id": "307f27d9-57bf-434c-8516-f24b54f0a95b",
   "metadata": {},
   "source": [
    "## Outlier check\n",
    "\n",
    "int_cols = df_int.columns.tolist()\n",
    "int_cols.remove('month')\n",
    "int_cols.remove(target)\n",
    "\n",
    "len(int_cols)\n",
    "\n",
    "z_score_ls = []\n",
    "z_score_index = []\n",
    "\n",
    "column_name = int_cols[1]\n",
    "column_data = df_int[column_name]\n",
    "z_scores = np.abs(stats.zscore(column_data))\n",
    "threshold = 3  # You can adjust the threshold as needed.\n",
    "outliers_z = np.where(z_scores > threshold)\n",
    "\n",
    "outliers_z\n",
    "\n",
    "for column_name in int_cols:\n",
    "    #z score\n",
    "    column_data = df_int[column_name]\n",
    "    z_scores = np.abs(stats.zscore(column_data))\n",
    "    threshold = 3  # You can adjust the threshold as needed.\n",
    "    outliers_z = np.where(z_scores > threshold)\n",
    "    \n",
    "    if len(outliers_z[0]) > 0: \n",
    "        z_score_ls.append(column_name)\n",
    "        z_score_index.extend(list(outliers_z[0]))\n",
    "\n",
    "df_int.boxplot(by =target, column =[z_score_ls[4]], grid = False) \n",
    "\n",
    "df[target][df[z_score_ls[4]] > 600].value_counts()\n",
    "\n",
    "z_score_ls[4]\n",
    "\n",
    "## Outlier check\n",
    "\n",
    "float_cols = df_float.columns.tolist()\n",
    "len(float_cols)\n",
    "\n",
    "z_score_float_ls = []\n",
    "z_score_float_index = []\n",
    "\n",
    "for column_name in float_cols:\n",
    "    #z score\n",
    "    column_data = df[column_name]\n",
    "    z_scores = np.abs(stats.zscore(column_data))\n",
    "    threshold = 3  # You can adjust the threshold as needed.\n",
    "    outliers_z = np.where(z_scores > threshold)\n",
    "    \n",
    "    if len(outliers_z[0]) > 0: \n",
    "        z_score_float_ls.append(column_name)\n",
    "        z_score_float_index.extend(list(outliers_z[0]))\n",
    "\n",
    "len(z_score_float_ls)\n",
    "\n",
    "df[target][df[z_score_float_ls[4]] > 200]\n",
    "\n",
    "df.boxplot(by =target, column =[z_score_float_ls[4]], grid = False) "
   ]
  },
  {
   "cell_type": "code",
   "execution_count": 23,
   "id": "185f631a-4cbd-4faa-9f85-82c5113d2064",
   "metadata": {},
   "outputs": [],
   "source": [
    "df.to_csv('./data/clean_data.csv', index=None)"
   ]
  },
  {
   "cell_type": "markdown",
   "id": "3ba864c0-5b82-4d6f-ac27-2ab964de6da6",
   "metadata": {},
   "source": [
    "## Feature Engineering\n",
    "1. get dummies"
   ]
  },
  {
   "cell_type": "code",
   "execution_count": 24,
   "id": "39edec17-2913-4840-9a57-056826b10e97",
   "metadata": {},
   "outputs": [],
   "source": [
    "df = pd.get_dummies(df, columns=['month', 'var9'], dtype=int)"
   ]
  },
  {
   "cell_type": "code",
   "execution_count": 25,
   "id": "9689fd5b-12f9-4737-a928-a5e72ed13e04",
   "metadata": {},
   "outputs": [],
   "source": [
    "df.to_csv('./data/clean_data_fe.csv', index=None)"
   ]
  },
  {
   "cell_type": "code",
   "execution_count": null,
   "id": "d14cdec5-3fc5-4b49-ae8b-d4f75972d12a",
   "metadata": {},
   "outputs": [],
   "source": []
  }
 ],
 "metadata": {
  "kernelspec": {
   "display_name": "Python 3 (ipykernel)",
   "language": "python",
   "name": "python3"
  },
  "language_info": {
   "codemirror_mode": {
    "name": "ipython",
    "version": 3
   },
   "file_extension": ".py",
   "mimetype": "text/x-python",
   "name": "python",
   "nbconvert_exporter": "python",
   "pygments_lexer": "ipython3",
   "version": "3.8.13"
  }
 },
 "nbformat": 4,
 "nbformat_minor": 5
}
